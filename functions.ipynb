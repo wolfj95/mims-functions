{
 "cells": [
  {
   "cell_type": "markdown",
   "id": "845a2c4e",
   "metadata": {},
   "source": [
    "# Functions Lab\n",
    "\n",
    "In this lab, we will learn how to create and call functions. Functions are blocks of \n",
    "code that are reusable throughout a program. You’ve already encountered functions such \n",
    "as `print()`, which is a function built into Python."
   ]
  },
  {
   "cell_type": "code",
   "execution_count": 1,
   "id": "2a69883b",
   "metadata": {},
   "outputs": [],
   "source": [
    "from turtle import *"
   ]
  },
  {
   "cell_type": "markdown",
   "id": "9949ef6e",
   "metadata": {},
   "source": [
    "## What is a function?\n",
    "Before we can talk about functions, we need to talk about code blocks. A code block is one or more lines of code. Here’s one:"
   ]
  },
  {
   "cell_type": "code",
   "execution_count": 2,
   "id": "95fb86ac",
   "metadata": {},
   "outputs": [
    {
     "name": "stderr",
     "output_type": "stream",
     "text": [
      "2021-08-04 10:28:10.043 Python[32433:9439150] ApplePersistenceIgnoreState: Existing state will not be touched. New state will be written to /var/folders/gw/zzdm1k1s4czgdmpvkm7g_0q80000gn/T/org.python.python.savedState\n"
     ]
    }
   ],
   "source": [
    "side_length = 20\n",
    "forward(side_length)\n",
    "left(120)"
   ]
  },
  {
   "cell_type": "markdown",
   "id": "c0068d19",
   "metadata": {},
   "source": [
    "Sometimes we want to tell Python how many times a code block should run, or whether it\n",
    "should run at all. Consider this code, which will draw a triangle:"
   ]
  },
  {
   "cell_type": "code",
   "execution_count": 3,
   "id": "a0242ba5",
   "metadata": {},
   "outputs": [],
   "source": [
    "side_length = 20\n",
    "\n",
    "for each_item in range(3):\n",
    "    forward(side_length)\n",
    "    left(120)"
   ]
  },
  {
   "cell_type": "markdown",
   "id": "4c930fe6",
   "metadata": {},
   "source": [
    "We have the same code block, but now it’s indented under the loop \n",
    "`for each_item in range(3):`. This means the code block should run once for each \n",
    "item in the range. A few things to note:\n",
    "- Whenever a code block is indented, there’s always a line introducing it. This line\n",
    "always ends with a colon.\n",
    "- The way you indent matters. **Always use the tab key to indent.**\n",
    "- When you’re done with a code block, just stop indenting.\n",
    "\n",
    "Often times we want to reuse a code block in different sections of a program. \n",
    "Functions allow for code reuse without needing to copy and paste code blocks. \n",
    "Here is a function:"
   ]
  },
  {
   "cell_type": "code",
   "execution_count": 4,
   "id": "fe7d90ae",
   "metadata": {},
   "outputs": [],
   "source": [
    "def draw_triangle(side_length):\n",
    "    #This function draws a triangle\n",
    "    for i in range(3):\n",
    "        forward(side_length)\n",
    "        left(120)"
   ]
  },
  {
   "cell_type": "markdown",
   "id": "d9797844",
   "metadata": {},
   "source": [
    "A few things to note:\n",
    "\n",
    "- The structure of the function definition looks a lot like a for-loop. There’s an\n",
    "introduction line ending in a colon, and then an indented code block.\n",
    "- The `def` keyword tells the computer you’re defining a new function.\n",
    "- The function’s name, `draw_triangle`, comes right after `def`. You could call a \n",
    "function `x` but you’ll regret it 😅\n",
    "- After the function’s name is the list of arguments, surrounded by parentheses\n",
    "(`side_length`). Arguments, or parameters, are the things you need to tell the program\n",
    "before you can use the function. Think of arguments as questions the program might ask\n",
    "about what to do. For `draw_triangle`, the program wants to know “How long should the\n",
    "length of the sides be?” and you have to tell it the `side_length`.\n",
    "- Some functions won’t have any arguments, so their parameters list will look like `()`. It depends how you design your functions. You've seen an example of this with\n",
    "the `penup()` function from the turtle library.\n",
    "- The first line of the function’s code block should be a comment explaining what the\n",
    "function does.\n",
    "- In the function’s code block, you can use the arguments as variables, like where we\n",
    "use `forward(side_length)` in the `draw_triangle` function.\n"
   ]
  },
  {
   "cell_type": "markdown",
   "id": "a589d05e",
   "metadata": {},
   "source": [
    "You might have noticed that when you ran the cell containing the `draw_triangle`\n",
    "function definition, nothing happened. **This is because defining a function is\n",
    "not the same as using the function.**\n",
    "\n",
    "To use, or *call*, the function, we have to write the function name and give\n",
    "it any parameters it requires (like when you call `right(90)`):"
   ]
  },
  {
   "cell_type": "code",
   "execution_count": 5,
   "id": "b624550e",
   "metadata": {},
   "outputs": [],
   "source": [
    "draw_triangle(30)"
   ]
  },
  {
   "cell_type": "markdown",
   "id": "c7c94944",
   "metadata": {},
   "source": [
    "In this function call, you tell the `draw_triangle()` function that it should run\n",
    "with the `side_length` parameter set to `30`.\n",
    "\n",
    "> **👾 💬 FYI**\n",
    ">\n",
    "> Functions make your code simpler. Instead of writing all the code for a triangle over\n",
    "> and over, you can get it right once and put it in a function.\n",
    ">\n",
    "> Once you have written a function, you must call it. Calling a function tells Python\n",
    "> to run that block of code. Remember, order matters. Code is read from top to bottom. \n",
    "> **You cannot call a function before it has been defined.**"
   ]
  },
  {
   "cell_type": "markdown",
   "id": "f5740cd2",
   "metadata": {},
   "source": [
    "🗣 Look at the code below. Discuss the following questions in your group before \n",
    "moving on:\n",
    "- What argument does the `hexagon()` function take?\n",
    "- How is that argument used in the `hexagon()` function?\n",
    "- On which line of code is the `hexagon()` function called?\n",
    "- On which line of code is the `draw_pattern()` function called?\n"
   ]
  },
  {
   "cell_type": "code",
   "execution_count": 7,
   "id": "fdad06cf",
   "metadata": {},
   "outputs": [],
   "source": [
    "def hexagon(side_length):\n",
    "   #Draws a hexagon\n",
    "   for i in range(6):\n",
    "       forward(side_length)\n",
    "       right(360//6)\n",
    "\n",
    "def draw_pattern():\n",
    "    #Draws a hexagon pattern\n",
    "    for each_side in range(6):\n",
    "        pendown()\n",
    "        hexagon(20)\n",
    "        penup()\n",
    "        forward(20)\n",
    "        left(360 / 6)\n",
    "\n",
    "reset()\n",
    "draw_pattern()"
   ]
  },
  {
   "cell_type": "markdown",
   "id": "fce9a2fc",
   "metadata": {},
   "source": [
    "## Writing functions"
   ]
  },
  {
   "cell_type": "markdown",
   "id": "94cdb6fd",
   "metadata": {},
   "source": [
    "Let’s practice writing some functions. For this part, your goal\n",
    "is to write functions that produce a grid of squares:\n",
    "\n",
    "![Grid of squares](images/grid.png)\n",
    "\n",
    "Your functions should use parameters to determine how big the squares should be\n",
    "and how much gap there should be between the squares."
   ]
  },
  {
   "cell_type": "markdown",
   "id": "2fac6bff",
   "metadata": {},
   "source": [
    "> **👾 💬 FYI**\n",
    ">\n",
    "> Here's a function you can use that will setup your turtle facing right at a\n",
    "> point (`x`, `y`) on the canvas. Remember that the center of the canvas is at (0,0)."
   ]
  },
  {
   "cell_type": "code",
   "execution_count": 8,
   "id": "47245260",
   "metadata": {},
   "outputs": [],
   "source": [
    "def setup(x, y):\n",
    "    '''Sets up the turtle, ready to draw, \n",
    "    at the given coordinates'''\n",
    "    penup()\n",
    "    goto(x, y)\n",
    "    pendown()\n",
    "    setheading(0)"
   ]
  },
  {
   "cell_type": "markdown",
   "id": "02d85e43",
   "metadata": {},
   "source": [
    "### Pseudo-code\n",
    "This problem might seem simple, but there are a few different parts you'll need to\n",
    "figure out.\n",
    "\n",
    "Here are some things to consider:\n",
    "- What different parts of the drawing are there? How will you combine them together?\n",
    "- You can probably tell that the drawing is a lot of repeated squares. But what other\n",
    "structures are repeated in the drawing? Can you find a structure that gets repeated between the level of the grid and the level of the square?\n",
    "- How will you use parameters to make the functions work for any size aquare and any\n",
    "gap distance?\n",
    "\n",
    "✏️ You can use the cell below to write your pseudo-code:"
   ]
  },
  {
   "cell_type": "markdown",
   "id": "c6c9fec9",
   "metadata": {},
   "source": [
    "**Pseudo-code:**\n",
    "\n",
    "*Double click on this cell to edit it.*"
   ]
  },
  {
   "cell_type": "markdown",
   "id": "3fa3e9d2",
   "metadata": {},
   "source": [
    "### Code\n",
    "💻 Here is some structure to get you started. After writing your functions, make\n",
    "sure you call the `draw_grid()` function at the bottom of the cell.\n",
    "\n",
    "> **👾 💬 FYI**\n",
    ">\n",
    "> So far, you've only seen functions that take one parameter, but `draw_grid()` takes\n",
    "> two. You can call a function with multiple parameters by passing in two values\n",
    "> to the function call like this: `draw_grid(10, 20)`.\n",
    ">\n",
    "> Then, the first value becomes the first parameter in the function definition \n",
    "> (`square_size`) and the second value becomes the second parameter in the function\n",
    "> definition (`gap`)."
   ]
  },
  {
   "cell_type": "code",
   "execution_count": 9,
   "id": "14d76ac6",
   "metadata": {},
   "outputs": [],
   "source": [
    "def square(side_length):\n",
    "    '''Draws a square using `side_length` as the length'''\n",
    "    #YOUR CODE GOES HERE\n",
    "\n",
    "\n",
    "def draw_grid(square_size,gap):\n",
    "    '''\n",
    "    - Draw a grid of squares using nested for loops.\n",
    "    - Use the function `setup()` to move the turtle.\n",
    "    - `square_size` should set the size of the square\n",
    "    - `gap` should adjust the size of the gap inbetween the squares in the grid \n",
    "    '''\n",
    "    #YOUR CODE GOES HERE\n",
    "\n",
    "\n",
    "reset()\n",
    "#CALL DRAW GRID FUNCTION HERE\n"
   ]
  },
  {
   "cell_type": "markdown",
   "id": "6afbe13d",
   "metadata": {},
   "source": [
    "## Combining functions\n",
    "\n",
    "When you want to draw something fancy, you need to break it down into smaller steps.\n",
    "Then you can write functions to do the smaller steps, and write more functions to \n",
    "combine small steps into bigger steps. This concept is called *decomposition*.\n",
    "\n",
    "For example, if we want to draw an ice cream cone with scoops\n",
    "of ice cream, we can break it down into steps:\n",
    "\n",
    "- Draw ice cream: `draw_icecream(num_scoops)`\n",
    "    - Draw an ice cream cone: `cone()`\n",
    "    - Draw scoops of ice cream: `draw_scoops(num_scoops)`\n",
    "        - Draw one scoop of icecream: `icecream_scoop(flavor)`\n",
    "    \n",
    "![Ice cream, decomposed](images/icecream.jpg)\n"
   ]
  },
  {
   "cell_type": "markdown",
   "id": "4bd8739a",
   "metadata": {},
   "source": [
    "💻 Your job is to write the functions `draw_icecream()`, `draw_scoops()`, `cone()`, and \n",
    "`icecream_scoop()` that draw an icecream cone similar to the one above. The \n",
    "colors of the cone and ice cream scoops are up to you! We've started the definitions\n",
    "of the the `draw_scoops()`, `cone()` and `icecream_scoop()` functions for you, but you'll have to\n",
    "define `draw_icecream()` on your own.\n",
    "\n",
    "> **👾 💬 FYI**\n",
    ">\n",
    "> To fill your turtle drawing with color follow the below format. You must call \n",
    "> `begin_fill()` before the shape has been drawn and `end_fill()` after.\n",
    ">\n",
    "> If you want the pen color to be different than the fill color, you can\n",
    "> use `color()` to set the pen color and `fill_color()` to set the fill\n",
    "> color.\n",
    ">\n",
    "> For a wide range of color options look at [this chart](http://cng.seas.rochester.edu/CNG/docs/x11color.html)."
   ]
  },
  {
   "cell_type": "code",
   "execution_count": 12,
   "id": "a1b3790c",
   "metadata": {},
   "outputs": [],
   "source": [
    "def cone():\n",
    "    \"Draws an ice cream cone\"\n",
    "    # YOUR CODE HERE\n",
    "\n",
    "\n",
    "def icecream_scoop(flavor):\n",
    "    '''Draws a scoop of ice cream.\n",
    "    Takes an ice cream flavor \n",
    "    and number of scoops as paramters'''\n",
    "    # YOUR CODE HERE \n",
    "\n",
    "    \n",
    "def draw_scoops(num_scoops):\n",
    "    '''Draws multiple scoops of icecream.\n",
    "    Takes the number of scoops as a\n",
    "    parameter.\n",
    "    '''\n",
    "\n",
    "    \n",
    "#YOUR draw_icecream() FUNCTION GOES HERE\n",
    "\n",
    "    '''Draws an ice cream cone\n",
    "    with the ice cream scoops on top.\n",
    "    Use the function setup() to set the placement of the drawing.'''\n",
    "\n",
    "\n",
    "reset()\n",
    "speed(10)\n",
    "showturtle() #Shows the turtle as it draws\n",
    "\n",
    "#CALL DRAW ICE CREAM FUNCTION HERE\n",
    "\n",
    "\n",
    "hideturtle() #Hides the turtle pen"
   ]
  },
  {
   "cell_type": "markdown",
   "id": "b46baeca",
   "metadata": {},
   "source": [
    "## Your turn\n",
    "Now that you've work through using functions and decomposing big problems into smaller\n",
    "ones, try going through the process on your own.\n",
    "\n",
    "Pick something to draw with turtle that is made up of multiple parts with repeition\n",
    "(a forest, a flower, a pizza, a phone home screen, etc.). Decompose the drawing into\n",
    "smaller parts and write a program that draws you image piece by piece."
   ]
  },
  {
   "cell_type": "markdown",
   "id": "ca1c0ddd",
   "metadata": {},
   "source": [
    "### Planning and pseduo-coding\n",
    "Make a plan for your drawing here by outlining each piece of the drawing. Then, plan\n",
    "out what functions you will need to write to make each piece work.\n",
    "\n",
    "Here are some things to consider:\n",
    "- For the sake of time, try to base your drawing off simple shapes like circles and\n",
    "regular polygons.\n",
    "- In your plan, consider what functions will call other functions (like `draw_icecream()` calling `cone()`. Start by writing the most basic functions first.\n",
    "- When writing your functions, it's good practice to make the turtle start and end\n",
    "in the same place facing the same direction. This will help you use your functions\n",
    "multiple times without having to worry about where the turtle is at.\n",
    "\n",
    "✏️ You can use the cell below to write your planning and  pseudo-code, but you may\n",
    "want to make your plan on paper so you can draw different components:"
   ]
  },
  {
   "cell_type": "markdown",
   "id": "4bf1c851",
   "metadata": {},
   "source": [
    "**Planning and Pseudo-code:**\n",
    "\n",
    "*Double click on this cell to edit it.*"
   ]
  },
  {
   "cell_type": "markdown",
   "id": "ac557967",
   "metadata": {},
   "source": [
    "### Code\n",
    "💻 Based on your planning and pseudo-coding, make your drawing below:"
   ]
  },
  {
   "cell_type": "code",
   "execution_count": null,
   "id": "55e8e8d9",
   "metadata": {},
   "outputs": [],
   "source": []
  }
 ],
 "metadata": {
  "kernelspec": {
   "display_name": "Python 3 (ipykernel)",
   "language": "python",
   "name": "python3"
  },
  "language_info": {
   "codemirror_mode": {
    "name": "ipython",
    "version": 3
   },
   "file_extension": ".py",
   "mimetype": "text/x-python",
   "name": "python",
   "nbconvert_exporter": "python",
   "pygments_lexer": "ipython3",
   "version": "3.9.1"
  },
  "toc": {
   "base_numbering": 1,
   "nav_menu": {},
   "number_sections": true,
   "sideBar": true,
   "skip_h1_title": false,
   "title_cell": "Table of Contents",
   "title_sidebar": "Contents",
   "toc_cell": false,
   "toc_position": {},
   "toc_section_display": true,
   "toc_window_display": false
  },
  "varInspector": {
   "cols": {
    "lenName": 16,
    "lenType": 16,
    "lenVar": 40
   },
   "kernels_config": {
    "python": {
     "delete_cmd_postfix": "",
     "delete_cmd_prefix": "del ",
     "library": "var_list.py",
     "varRefreshCmd": "print(var_dic_list())"
    },
    "r": {
     "delete_cmd_postfix": ") ",
     "delete_cmd_prefix": "rm(",
     "library": "var_list.r",
     "varRefreshCmd": "cat(var_dic_list()) "
    }
   },
   "types_to_exclude": [
    "module",
    "function",
    "builtin_function_or_method",
    "instance",
    "_Feature"
   ],
   "window_display": false
  }
 },
 "nbformat": 4,
 "nbformat_minor": 5
}
