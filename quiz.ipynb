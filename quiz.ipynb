{
 "cells": [
  {
   "cell_type": "markdown",
   "id": "d80c4186",
   "metadata": {},
   "source": [
    "# Check-in Quiz - Functions Lab\n",
    "This notebook holds code used in the check-in quiz for this lab."
   ]
  },
  {
   "cell_type": "code",
   "execution_count": 2,
   "id": "1e721a1b",
   "metadata": {},
   "outputs": [],
   "source": [
    "from turtle import *"
   ]
  },
  {
   "cell_type": "markdown",
   "id": "cf6b767d",
   "metadata": {},
   "source": [
    "## Code trace\n"
   ]
  },
  {
   "cell_type": "code",
   "execution_count": 14,
   "id": "869499f9",
   "metadata": {},
   "outputs": [],
   "source": [
    "def rect(a):\n",
    "    for i in range(2):\n",
    "        forward(a/2)\n",
    "        left(90)\n",
    "        forward(a)\n",
    "        left(90)\n",
    "\n",
    "def two(b):\n",
    "    for i in range(b):\n",
    "        one(i)\n",
    "        forward(i/2)    \n",
    "reset()\n",
    "speed(0)\n",
    "two(40)"
   ]
  },
  {
   "cell_type": "markdown",
   "id": "984ccc3f",
   "metadata": {},
   "source": [
    "## Error fixing\n"
   ]
  },
  {
   "cell_type": "code",
   "execution_count": 21,
   "id": "159f149d",
   "metadata": {},
   "outputs": [],
   "source": [
    "def ngon(num_sides, side_length):\n",
    "    \"\"\"Draws a regular polygon with \n",
    "    num_sides sides of length side_length\"\"\"\n",
    "    for i in range(num_sides):\n",
    "        forward(side_length)\n",
    "        right(360/num_sides)\n",
    "        \n",
    "def allgon(max_sides, side_length):\n",
    "    \"\"\"Draws all the polygons with\n",
    "    sides from 3 to max_sides with\n",
    "    length side_length\"\"\"\n",
    "    for i in range(3, max_sides+1):\n",
    "        ngon(i, side_length)\n",
    "\n",
    "reset()\n",
    "speed(0)\n",
    "allgon(6, 40)"
   ]
  },
  {
   "cell_type": "markdown",
   "id": "67654a38",
   "metadata": {},
   "source": [
    "## Debugging\n"
   ]
  },
  {
   "cell_type": "code",
   "execution_count": 38,
   "id": "4050ba76",
   "metadata": {},
   "outputs": [
    {
     "name": "stdout",
     "output_type": "stream",
     "text": [
      "How many petals? 10\n",
      "How big? 10\n"
     ]
    }
   ],
   "source": [
    "def petal(size):\n",
    "    for i in range(int(size/2)):\n",
    "        forward(i)\n",
    "        right(360/size/2)\n",
    "    right(90)\n",
    "    for i in range(int(size/2)):\n",
    "        forward(i)\n",
    "        right(360/size/2)\n",
    "\n",
    "def flower(size, num_petals):\n",
    "    for i in range(num_petals):\n",
    "        setheading(360/num_petals * i)\n",
    "        petal(size)\n",
    "\n",
    "num_petals = int(input(\"How many petals? \"))\n",
    "size = int(input(\"How big? \"))\n",
    "\n",
    "reset()\n",
    "speed(0)\n",
    "flower(size, num_petals)\n",
    "# petal(30)\n",
    "hideturtle()"
   ]
  },
  {
   "cell_type": "code",
   "execution_count": null,
   "id": "efe0c5e0",
   "metadata": {},
   "outputs": [],
   "source": []
  },
  {
   "cell_type": "code",
   "execution_count": null,
   "id": "6f064382",
   "metadata": {},
   "outputs": [],
   "source": []
  }
 ],
 "metadata": {
  "kernelspec": {
   "display_name": "Python 3 (ipykernel)",
   "language": "python",
   "name": "python3"
  },
  "language_info": {
   "codemirror_mode": {
    "name": "ipython",
    "version": 3
   },
   "file_extension": ".py",
   "mimetype": "text/x-python",
   "name": "python",
   "nbconvert_exporter": "python",
   "pygments_lexer": "ipython3",
   "version": "3.9.1"
  },
  "toc": {
   "base_numbering": 1,
   "nav_menu": {},
   "number_sections": true,
   "sideBar": true,
   "skip_h1_title": false,
   "title_cell": "Table of Contents",
   "title_sidebar": "Contents",
   "toc_cell": false,
   "toc_position": {},
   "toc_section_display": true,
   "toc_window_display": false
  },
  "varInspector": {
   "cols": {
    "lenName": 16,
    "lenType": 16,
    "lenVar": 40
   },
   "kernels_config": {
    "python": {
     "delete_cmd_postfix": "",
     "delete_cmd_prefix": "del ",
     "library": "var_list.py",
     "varRefreshCmd": "print(var_dic_list())"
    },
    "r": {
     "delete_cmd_postfix": ") ",
     "delete_cmd_prefix": "rm(",
     "library": "var_list.r",
     "varRefreshCmd": "cat(var_dic_list()) "
    }
   },
   "types_to_exclude": [
    "module",
    "function",
    "builtin_function_or_method",
    "instance",
    "_Feature"
   ],
   "window_display": false
  }
 },
 "nbformat": 4,
 "nbformat_minor": 5
}
